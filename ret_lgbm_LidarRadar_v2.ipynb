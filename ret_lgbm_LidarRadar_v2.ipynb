{
 "cells": [
  {
   "cell_type": "code",
   "execution_count": 1,
   "metadata": {},
   "outputs": [
    {
     "name": "stderr",
     "output_type": "stream",
     "text": [
      "838280it [00:31, 26373.54it/s]\n"
     ]
    },
    {
     "name": "stdout",
     "output_type": "stream",
     "text": [
      "0.7876986209858281\n"
     ]
    }
   ],
   "source": [
    "from sklearn.neighbors import KNeighborsRegressor\n",
    "import numpy as np\n",
    "from sklearn.model_selection import train_test_split\n",
    "from netCDF4 import Dataset\n",
    "\n",
    "with Dataset(\"simObsCrossTrack_2dn_extended.nc\") as fh:\n",
    "    yobsL=fh[\"tb\"][:,:]\n",
    "    iwc_SSRG=fh[\"iwc_SSRG\"][:,:]\n",
    "    iwc_CS=fh[\"iwcCS\"][:,:]\n",
    "    zKu=fh[\"zKu\"][:,:]\n",
    "    pnorm=fh[\"pnorm\"][:,:]\n",
    "    pmol=fh[\"pmol\"][:,:]\n",
    "\n",
    "iwpL=[]\n",
    "iwc_gcL=[]\n",
    "h=np.arange(50)*0.24\n",
    "import tqdm\n",
    "iwc_SSRGL=[]\n",
    "zKuL=[]\n",
    "pnormL=[]\n",
    "tbObsL=[]\n",
    "for i,iwc in tqdm.tqdm(enumerate(iwc_SSRG)):\n",
    "    if(iwc.sum()>0.01):\n",
    "        a=np.nonzero(iwc>0.001)\n",
    "        if len(a[0])>2:\n",
    "            iwpL.append(iwc.sum()*0.24)\n",
    "            hgc1=(iwc[a]*h[a]).sum()/iwc[a].sum()\n",
    "            iwc_gcL.append(hgc1)\n",
    "            iwc_SSRGL.append(iwc)\n",
    "            zKuL.append(zKu[i])\n",
    "            pnormL.append(pnorm[i])\n",
    "            tbObsL.append(yobsL[i])\n",
    "\n",
    "#set random seed\n",
    "np.random.seed(42)\n",
    "tbObsL=np.array(tbObsL)\n",
    "iwpL=np.array(iwpL)\n",
    "iwc_gcL=np.array(iwc_gcL)\n",
    "iwc_SSRGL=np.array(iwc_SSRGL)\n",
    "zKuL=np.array(zKuL)\n",
    "pnormL=np.array(pnormL)\n",
    "\n",
    "nt,nchan=tbObsL.shape   \n",
    "lidarNoise=np.random.randn(nt,50)*0.1\n",
    "pnorm=np.log10(1e-3*(pnormL)*10**lidarNoise+1e-9)  #add noise to pnorm\n",
    "# pnorm is in sr^-1 m^-1 units\n",
    "pnorm[pnorm<-8.0]=-8.0\n",
    "pnormMax=pnorm.max(axis=-1)\n",
    "nt2,nchan=yobsL.shape\n",
    "\n",
    "zKuL+=np.random.randn(nt,50)\n",
    "zKuL[zKuL<8]=0\n",
    "print(nt/nt2)\n",
    "\n"
   ]
  },
  {
   "cell_type": "code",
   "execution_count": 2,
   "metadata": {},
   "outputs": [
    {
     "name": "stdout",
     "output_type": "stream",
     "text": [
      "660312\n"
     ]
    }
   ],
   "source": [
    "print(nt)\n",
    "nt=tbObsL.shape[0]\n",
    "tbObsL+=np.random.randn(nt,nchan)*3\n"
   ]
  },
  {
   "cell_type": "code",
   "execution_count": 3,
   "metadata": {},
   "outputs": [],
   "source": [
    "#import train_test_split\n",
    "from sklearn.model_selection import train_test_split\n",
    "nt=tbObsL.shape[0]\n",
    "yobsLidarRadar=np.concatenate((pnorm,zKuL),axis=-1)\n",
    "ind_train,ind_test,y_train, y_test = train_test_split(range(nt), iwc_SSRGL[:].sum(axis=-1)*0.24, test_size=0.33, random_state=42)\n",
    "nt,nc=yobsL.shape\n",
    "\n",
    "X1_train=yobsLidarRadar[ind_train,:]\n",
    "X1_test=yobsLidarRadar[ind_test,:]\n",
    "iwc_train=iwc_SSRGL[ind_train,:]\n",
    "iwp_train=iwc_train.sum(axis=-1)*0.24\n",
    "iwc_test=iwc_SSRGL[ind_test,:]\n",
    "iwp_test=iwc_test.sum(axis=-1)*0.24\n",
    "iwc_gc_train=iwc_gcL[ind_train]\n",
    "iwc_gc_test=iwc_gcL[ind_test]"
   ]
  },
  {
   "cell_type": "code",
   "execution_count": 4,
   "metadata": {},
   "outputs": [
    {
     "name": "stdout",
     "output_type": "stream",
     "text": [
      "[LightGBM] [Warning] Auto-choosing row-wise multi-threading, the overhead of testing was 0.021305 seconds.\n",
      "You can set `force_row_wise=true` to remove the overhead.\n",
      "And if memory is not enough, you can set `force_col_wise=true`.\n",
      "[LightGBM] [Info] Total Bins 20293\n",
      "[LightGBM] [Info] Number of data points in the train set: 442409, number of used features: 90\n",
      "[LightGBM] [Info] Start training from score 0.234342\n"
     ]
    },
    {
     "data": {
      "text/html": [
       "<style>#sk-container-id-1 {color: black;background-color: white;}#sk-container-id-1 pre{padding: 0;}#sk-container-id-1 div.sk-toggleable {background-color: white;}#sk-container-id-1 label.sk-toggleable__label {cursor: pointer;display: block;width: 100%;margin-bottom: 0;padding: 0.3em;box-sizing: border-box;text-align: center;}#sk-container-id-1 label.sk-toggleable__label-arrow:before {content: \"▸\";float: left;margin-right: 0.25em;color: #696969;}#sk-container-id-1 label.sk-toggleable__label-arrow:hover:before {color: black;}#sk-container-id-1 div.sk-estimator:hover label.sk-toggleable__label-arrow:before {color: black;}#sk-container-id-1 div.sk-toggleable__content {max-height: 0;max-width: 0;overflow: hidden;text-align: left;background-color: #f0f8ff;}#sk-container-id-1 div.sk-toggleable__content pre {margin: 0.2em;color: black;border-radius: 0.25em;background-color: #f0f8ff;}#sk-container-id-1 input.sk-toggleable__control:checked~div.sk-toggleable__content {max-height: 200px;max-width: 100%;overflow: auto;}#sk-container-id-1 input.sk-toggleable__control:checked~label.sk-toggleable__label-arrow:before {content: \"▾\";}#sk-container-id-1 div.sk-estimator input.sk-toggleable__control:checked~label.sk-toggleable__label {background-color: #d4ebff;}#sk-container-id-1 div.sk-label input.sk-toggleable__control:checked~label.sk-toggleable__label {background-color: #d4ebff;}#sk-container-id-1 input.sk-hidden--visually {border: 0;clip: rect(1px 1px 1px 1px);clip: rect(1px, 1px, 1px, 1px);height: 1px;margin: -1px;overflow: hidden;padding: 0;position: absolute;width: 1px;}#sk-container-id-1 div.sk-estimator {font-family: monospace;background-color: #f0f8ff;border: 1px dotted black;border-radius: 0.25em;box-sizing: border-box;margin-bottom: 0.5em;}#sk-container-id-1 div.sk-estimator:hover {background-color: #d4ebff;}#sk-container-id-1 div.sk-parallel-item::after {content: \"\";width: 100%;border-bottom: 1px solid gray;flex-grow: 1;}#sk-container-id-1 div.sk-label:hover label.sk-toggleable__label {background-color: #d4ebff;}#sk-container-id-1 div.sk-serial::before {content: \"\";position: absolute;border-left: 1px solid gray;box-sizing: border-box;top: 0;bottom: 0;left: 50%;z-index: 0;}#sk-container-id-1 div.sk-serial {display: flex;flex-direction: column;align-items: center;background-color: white;padding-right: 0.2em;padding-left: 0.2em;position: relative;}#sk-container-id-1 div.sk-item {position: relative;z-index: 1;}#sk-container-id-1 div.sk-parallel {display: flex;align-items: stretch;justify-content: center;background-color: white;position: relative;}#sk-container-id-1 div.sk-item::before, #sk-container-id-1 div.sk-parallel-item::before {content: \"\";position: absolute;border-left: 1px solid gray;box-sizing: border-box;top: 0;bottom: 0;left: 50%;z-index: -1;}#sk-container-id-1 div.sk-parallel-item {display: flex;flex-direction: column;z-index: 1;position: relative;background-color: white;}#sk-container-id-1 div.sk-parallel-item:first-child::after {align-self: flex-end;width: 50%;}#sk-container-id-1 div.sk-parallel-item:last-child::after {align-self: flex-start;width: 50%;}#sk-container-id-1 div.sk-parallel-item:only-child::after {width: 0;}#sk-container-id-1 div.sk-dashed-wrapped {border: 1px dashed gray;margin: 0 0.4em 0.5em 0.4em;box-sizing: border-box;padding-bottom: 0.4em;background-color: white;}#sk-container-id-1 div.sk-label label {font-family: monospace;font-weight: bold;display: inline-block;line-height: 1.2em;}#sk-container-id-1 div.sk-label-container {text-align: center;}#sk-container-id-1 div.sk-container {/* jupyter's `normalize.less` sets `[hidden] { display: none; }` but bootstrap.min.css set `[hidden] { display: none !important; }` so we also need the `!important` here to be able to override the default hidden behavior on the sphinx rendered scikit-learn.org. See: https://github.com/scikit-learn/scikit-learn/issues/21755 */display: inline-block !important;position: relative;}#sk-container-id-1 div.sk-text-repr-fallback {display: none;}</style><div id=\"sk-container-id-1\" class=\"sk-top-container\"><div class=\"sk-text-repr-fallback\"><pre>LGBMRegressor(learning_rate=0.01, n_estimators=1000, num_leaves=200,\n",
       "              objective=&#x27;mse&#x27;, random_state=42)</pre><b>In a Jupyter environment, please rerun this cell to show the HTML representation or trust the notebook. <br />On GitHub, the HTML representation is unable to render, please try loading this page with nbviewer.org.</b></div><div class=\"sk-container\" hidden><div class=\"sk-item\"><div class=\"sk-estimator sk-toggleable\"><input class=\"sk-toggleable__control sk-hidden--visually\" id=\"sk-estimator-id-1\" type=\"checkbox\" checked><label for=\"sk-estimator-id-1\" class=\"sk-toggleable__label sk-toggleable__label-arrow\">LGBMRegressor</label><div class=\"sk-toggleable__content\"><pre>LGBMRegressor(learning_rate=0.01, n_estimators=1000, num_leaves=200,\n",
       "              objective=&#x27;mse&#x27;, random_state=42)</pre></div></div></div></div></div>"
      ],
      "text/plain": [
       "LGBMRegressor(learning_rate=0.01, n_estimators=1000, num_leaves=200,\n",
       "              objective='mse', random_state=42)"
      ]
     },
     "execution_count": 4,
     "metadata": {},
     "output_type": "execute_result"
    }
   ],
   "source": [
    "# import lightgbm as lgb\n",
    "import lightgbm as lgb\n",
    "lgbmReg_IWP=lgb.LGBMRegressor(n_estimators=1000,learning_rate=0.01,num_leaves=200,objective=\"mse\",random_state=42)\n",
    "lgbmReg_IWP.fit(X1_train,iwp_train)"
   ]
  },
  {
   "cell_type": "code",
   "execution_count": 5,
   "metadata": {},
   "outputs": [
    {
     "name": "stdout",
     "output_type": "stream",
     "text": [
      "[[1.         0.89642174]\n",
      " [0.89642174 1.        ]]\n"
     ]
    },
    {
     "data": {
      "image/png": "[encoded data removed]",
      "text/plain": [
       "<Figure size 640x480 with 1 Axes>"
      ]
     },
     "metadata": {},
     "output_type": "display_data"
    }
   ],
   "source": [
    "y_pred=lgbmReg_IWP.predict(X1_test)\n",
    "print(np.corrcoef(y_pred,iwp_test))\n",
    "import matplotlib.pyplot as plt\n",
    "import matplotlib\n",
    "xbins=np.logspace(1,4,50)\n",
    "plt.figure()\n",
    "ax=plt.subplot(111)\n",
    "plt.hist2d(iwp_test*1e3,y_pred*1e3,bins=xbins,norm=matplotlib.colors.LogNorm(),cmap=\"jet\")\n",
    "plt.xscale('log')\n",
    "plt.yscale('log')\n",
    "ax.set_aspect('equal')\n",
    "plt.grid()"
   ]
  },
  {
   "cell_type": "code",
   "execution_count": 6,
   "metadata": {},
   "outputs": [
    {
     "name": "stdout",
     "output_type": "stream",
     "text": [
      "[LightGBM] [Warning] Auto-choosing row-wise multi-threading, the overhead of testing was 0.018408 seconds.\n",
      "You can set `force_row_wise=true` to remove the overhead.\n",
      "And if memory is not enough, you can set `force_col_wise=true`.\n",
      "[LightGBM] [Info] Total Bins 20293\n",
      "[LightGBM] [Info] Number of data points in the train set: 442409, number of used features: 90\n",
      "[LightGBM] [Info] Start training from score 5.190720\n"
     ]
    },
    {
     "data": {
      "text/html": [
       "<style>#sk-container-id-2 {color: black;background-color: white;}#sk-container-id-2 pre{padding: 0;}#sk-container-id-2 div.sk-toggleable {background-color: white;}#sk-container-id-2 label.sk-toggleable__label {cursor: pointer;display: block;width: 100%;margin-bottom: 0;padding: 0.3em;box-sizing: border-box;text-align: center;}#sk-container-id-2 label.sk-toggleable__label-arrow:before {content: \"▸\";float: left;margin-right: 0.25em;color: #696969;}#sk-container-id-2 label.sk-toggleable__label-arrow:hover:before {color: black;}#sk-container-id-2 div.sk-estimator:hover label.sk-toggleable__label-arrow:before {color: black;}#sk-container-id-2 div.sk-toggleable__content {max-height: 0;max-width: 0;overflow: hidden;text-align: left;background-color: #f0f8ff;}#sk-container-id-2 div.sk-toggleable__content pre {margin: 0.2em;color: black;border-radius: 0.25em;background-color: #f0f8ff;}#sk-container-id-2 input.sk-toggleable__control:checked~div.sk-toggleable__content {max-height: 200px;max-width: 100%;overflow: auto;}#sk-container-id-2 input.sk-toggleable__control:checked~label.sk-toggleable__label-arrow:before {content: \"▾\";}#sk-container-id-2 div.sk-estimator input.sk-toggleable__control:checked~label.sk-toggleable__label {background-color: #d4ebff;}#sk-container-id-2 div.sk-label input.sk-toggleable__control:checked~label.sk-toggleable__label {background-color: #d4ebff;}#sk-container-id-2 input.sk-hidden--visually {border: 0;clip: rect(1px 1px 1px 1px);clip: rect(1px, 1px, 1px, 1px);height: 1px;margin: -1px;overflow: hidden;padding: 0;position: absolute;width: 1px;}#sk-container-id-2 div.sk-estimator {font-family: monospace;background-color: #f0f8ff;border: 1px dotted black;border-radius: 0.25em;box-sizing: border-box;margin-bottom: 0.5em;}#sk-container-id-2 div.sk-estimator:hover {background-color: #d4ebff;}#sk-container-id-2 div.sk-parallel-item::after {content: \"\";width: 100%;border-bottom: 1px solid gray;flex-grow: 1;}#sk-container-id-2 div.sk-label:hover label.sk-toggleable__label {background-color: #d4ebff;}#sk-container-id-2 div.sk-serial::before {content: \"\";position: absolute;border-left: 1px solid gray;box-sizing: border-box;top: 0;bottom: 0;left: 50%;z-index: 0;}#sk-container-id-2 div.sk-serial {display: flex;flex-direction: column;align-items: center;background-color: white;padding-right: 0.2em;padding-left: 0.2em;position: relative;}#sk-container-id-2 div.sk-item {position: relative;z-index: 1;}#sk-container-id-2 div.sk-parallel {display: flex;align-items: stretch;justify-content: center;background-color: white;position: relative;}#sk-container-id-2 div.sk-item::before, #sk-container-id-2 div.sk-parallel-item::before {content: \"\";position: absolute;border-left: 1px solid gray;box-sizing: border-box;top: 0;bottom: 0;left: 50%;z-index: -1;}#sk-container-id-2 div.sk-parallel-item {display: flex;flex-direction: column;z-index: 1;position: relative;background-color: white;}#sk-container-id-2 div.sk-parallel-item:first-child::after {align-self: flex-end;width: 50%;}#sk-container-id-2 div.sk-parallel-item:last-child::after {align-self: flex-start;width: 50%;}#sk-container-id-2 div.sk-parallel-item:only-child::after {width: 0;}#sk-container-id-2 div.sk-dashed-wrapped {border: 1px dashed gray;margin: 0 0.4em 0.5em 0.4em;box-sizing: border-box;padding-bottom: 0.4em;background-color: white;}#sk-container-id-2 div.sk-label label {font-family: monospace;font-weight: bold;display: inline-block;line-height: 1.2em;}#sk-container-id-2 div.sk-label-container {text-align: center;}#sk-container-id-2 div.sk-container {/* jupyter's `normalize.less` sets `[hidden] { display: none; }` but bootstrap.min.css set `[hidden] { display: none !important; }` so we also need the `!important` here to be able to override the default hidden behavior on the sphinx rendered scikit-learn.org. See: https://github.com/scikit-learn/scikit-learn/issues/21755 */display: inline-block !important;position: relative;}#sk-container-id-2 div.sk-text-repr-fallback {display: none;}</style><div id=\"sk-container-id-2\" class=\"sk-top-container\"><div class=\"sk-text-repr-fallback\"><pre>LGBMRegressor(learning_rate=0.01, n_estimators=1000, num_leaves=200,\n",
       "              objective=&#x27;mse&#x27;, random_state=42)</pre><b>In a Jupyter environment, please rerun this cell to show the HTML representation or trust the notebook. <br />On GitHub, the HTML representation is unable to render, please try loading this page with nbviewer.org.</b></div><div class=\"sk-container\" hidden><div class=\"sk-item\"><div class=\"sk-estimator sk-toggleable\"><input class=\"sk-toggleable__control sk-hidden--visually\" id=\"sk-estimator-id-2\" type=\"checkbox\" checked><label for=\"sk-estimator-id-2\" class=\"sk-toggleable__label sk-toggleable__label-arrow\">LGBMRegressor</label><div class=\"sk-toggleable__content\"><pre>LGBMRegressor(learning_rate=0.01, n_estimators=1000, num_leaves=200,\n",
       "              objective=&#x27;mse&#x27;, random_state=42)</pre></div></div></div></div></div>"
      ],
      "text/plain": [
       "LGBMRegressor(learning_rate=0.01, n_estimators=1000, num_leaves=200,\n",
       "              objective='mse', random_state=42)"
      ]
     },
     "execution_count": 6,
     "metadata": {},
     "output_type": "execute_result"
    }
   ],
   "source": [
    "import lightgbm as lgb\n",
    "lgbmReg_IWC_GC=lgb.LGBMRegressor(n_estimators=1000,learning_rate=0.01,num_leaves=200,objective=\"mse\",random_state=42)\n",
    "lgbmReg_IWC_GC.fit(X1_train,iwc_gc_train)\n"
   ]
  },
  {
   "cell_type": "code",
   "execution_count": 7,
   "metadata": {},
   "outputs": [
    {
     "name": "stdout",
     "output_type": "stream",
     "text": [
      "[[1.       0.982914]\n",
      " [0.982914 1.      ]]\n"
     ]
    },
    {
     "data": {
      "image/png": "[encoded data removed]",
      "text/plain": [
       "<Figure size 640x480 with 1 Axes>"
      ]
     },
     "metadata": {},
     "output_type": "display_data"
    }
   ],
   "source": [
    "y_pred_gc=lgbmReg_IWC_GC.predict(X1_test)\n",
    "print(np.corrcoef(y_pred_gc,iwc_gc_test))\n",
    "import matplotlib.pyplot as plt\n",
    "import matplotlib\n",
    "xbins=np.logspace(1,4,50)\n",
    "plt.figure()\n",
    "ax=plt.subplot(111)\n",
    "plt.hist2d(iwc_gc_test,y_pred_gc,bins=np.arange(20)*0.5,norm=matplotlib.colors.LogNorm(),cmap=\"jet\")\n",
    "ax.set_aspect('equal')\n",
    "plt.grid()"
   ]
  },
  {
   "cell_type": "code",
   "execution_count": 8,
   "metadata": {},
   "outputs": [],
   "source": [
    "import xarray as xr\n",
    "\n",
    "y_predX=xr.DataArray(1e3*y_pred)\n",
    "y_predX.name=\"iwp_pred\"\n",
    "y_predX.attrs[\"units\"]=\"g/m^2\"\n",
    "y_predX.attrs[\"long_name\"]=\"predicted ice water path\"\n",
    "iwp_testX=xr.DataArray(1e3*iwp_test)\n",
    "iwp_testX.name=\"iwp_test\"\n",
    "iwp_testX.attrs[\"units\"]=\"g/m^2\"\n",
    "iwp_testX.attrs[\"long_name\"]=\"test ice water path\"\n",
    "iwc_gc_testX=xr.DataArray(iwc_gc_test)\n",
    "iwc_gc_testX.name=\"iwc_gc_test\"\n",
    "iwc_gc_testX.attrs[\"units\"]=\"km\"\n",
    "iwc_gc_testX.attrs[\"long_name\"]=\"test IWC gravity center\"\n",
    "y_pred_gcX=xr.DataArray(y_pred_gc)\n",
    "y_pred_gcX.name=\"iwc_gc_pred\"\n",
    "y_pred_gcX.attrs[\"units\"]=\"km\"\n",
    "y_pred_gcX.attrs[\"long_name\"]=\"predicted IWC gravity center\"\n",
    "ds=xr.merge([y_predX,iwp_testX,iwc_gc_testX,y_pred_gcX])\n",
    "ds.to_netcdf(\"lgbm_IWP_IWC_GC_lidarRadar.nc\")"
   ]
  }
 ],
 "metadata": {
  "kernelspec": {
   "display_name": "Python 3 (ipykernel)",
   "language": "python",
   "name": "python3"
  },
  "language_info": {
   "codemirror_mode": {
    "name": "ipython",
    "version": 3
   },
   "file_extension": ".py",
   "mimetype": "text/x-python",
   "name": "python",
   "nbconvert_exporter": "python",
   "pygments_lexer": "ipython3",
   "version": "3.9.13"
  }
 },
 "nbformat": 4,
 "nbformat_minor": 4
}
