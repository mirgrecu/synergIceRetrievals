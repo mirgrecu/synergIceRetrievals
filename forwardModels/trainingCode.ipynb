{
 "cells": [
  {
   "cell_type": "code",
   "execution_count": 2,
   "metadata": {},
   "outputs": [],
   "source": [
    "from sklearn.neighbors import KNeighborsRegressor\n",
    "import numpy as np\n",
    "from sklearn.model_selection import train_test_split\n",
    "from netCDF4 import Dataset\n",
    "\n",
    "import glob \n",
    "fs=glob.glob('forwardModels/simObs/*.nc')\n",
    "fs=sorted(fs)"
   ]
  },
  {
   "cell_type": "code",
   "execution_count": 7,
   "metadata": {},
   "outputs": [],
   "source": [
    "xobs=[]\n",
    "yret=[]\n",
    "for f in fs[:]:\n",
    "    with Dataset(f) as fh:\n",
    "        tb_obs=fh[\"tb\"][:,:]\n",
    "        iwc_SSRG=fh[\"iwc_SSRG\"][:,:]\n",
    "        zKu=fh[\"zKu\"][:,:]\n",
    "        pnorm=fh[\"pnorm\"][:,:]\n",
    "\n",
    "    nt,nchan=tb_obs.shape   \n",
    "    lidarNoise=np.random.randn(nt,50)*0.1\n",
    "    pnorm=np.log10(1e-3*(pnorm)*10**lidarNoise+1e-9)\n",
    "    pnorm[pnorm<-8.0]=-8.0\n",
    "    zKu+=np.random.randn(nt,50)\n",
    "    tb_obs+=np.random.randn(nt,nchan)*1\n",
    "    zKu[zKu<8]=0\n",
    "\n",
    "    lidarRadarRadiometerObs=np.concatenate((tb_obs,pnorm,zKu),axis=-1)\n",
    "    yret.extend(iwc_SSRG)\n",
    "    xobs.extend(lidarRadarRadiometerObs)\n",
    "\n"
   ]
  },
  {
   "cell_type": "code",
   "execution_count": 9,
   "metadata": {},
   "outputs": [
    {
     "name": "stdout",
     "output_type": "stream",
     "text": [
      "611374\n",
      "611374\n"
     ]
    }
   ],
   "source": [
    "print(len(xobs))\n",
    "print(len(yret))"
   ]
  }
 ],
 "metadata": {
  "kernelspec": {
   "display_name": "base",
   "language": "python",
   "name": "python3"
  },
  "language_info": {
   "codemirror_mode": {
    "name": "ipython",
    "version": 3
   },
   "file_extension": ".py",
   "mimetype": "text/x-python",
   "name": "python",
   "nbconvert_exporter": "python",
   "pygments_lexer": "ipython3",
   "version": "3.9.13"
  }
 },
 "nbformat": 4,
 "nbformat_minor": 2
}
