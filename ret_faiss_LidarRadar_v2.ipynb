{
 "cells": [
  {
   "cell_type": "code",
   "execution_count": 31,
   "metadata": {},
   "outputs": [
    {
     "name": "stderr",
     "output_type": "stream",
     "text": [
      "165078it [00:07, 21401.72it/s]\n"
     ]
    },
    {
     "name": "stdout",
     "output_type": "stream",
     "text": [
      "1.0\n"
     ]
    }
   ],
   "source": [
    "import numpy as np\n",
    "from sklearn.model_selection import train_test_split\n",
    "from netCDF4 import Dataset\n",
    "\n",
    "with Dataset(\"simulatedObs_sample.nc\") as fh:\n",
    "    tb=fh[\"tb\"][:,:]\n",
    "    iwc_SSRG=fh[\"iwc_SSRG\"][:,:]\n",
    "    zKu=fh[\"zKu\"][:,:]\n",
    "    pnorm=fh[\"pnorm\"][:,:]\n",
    "    \n",
    "iwpL=[]\n",
    "iwc_gcL=[]\n",
    "h=np.arange(50)*0.24 # relative height of each layer\n",
    "import tqdm\n",
    "iwc_SSRGL=[]\n",
    "zKuL=[]\n",
    "pnormL=[]\n",
    "tbObsL=[]\n",
    "for i,iwc in tqdm.tqdm(enumerate(iwc_SSRG)):\n",
    "    if(iwc.sum()>0.01):\n",
    "        a=np.nonzero(iwc>0.001)\n",
    "        if len(a[0])>2:\n",
    "            iwpL.append(iwc.sum()*0.24)\n",
    "            hgc1=(iwc[a]*h[a]).sum()/iwc[a].sum()\n",
    "            iwc_gcL.append(hgc1)\n",
    "            iwc_SSRGL.append(iwc)\n",
    "            zKuL.append(zKu[i])\n",
    "            pnormL.append(pnorm[i])\n",
    "            tbObsL.append(tb[i])\n",
    "\n",
    "#set random seed\n",
    "np.random.seed(42)\n",
    "tbObsL=np.array(tbObsL)\n",
    "iwpL=np.array(iwpL)\n",
    "iwc_gcL=np.array(iwc_gcL)\n",
    "iwc_SSRGL=np.array(iwc_SSRGL)\n",
    "zKuL=np.array(zKuL)\n",
    "pnormL=np.array(pnormL)\n",
    "\n",
    "nt,nchan=tbObsL.shape   \n",
    "lidarNoise=np.random.randn(nt,50)*0.1\n",
    "pnorm=np.log10(1e-3*(pnormL)*10**lidarNoise+1e-9)  #add noise to pnorm\n",
    "# pnorm is in sr^-1 m^-1 units\n",
    "pnorm[pnorm<-8.0]=-8.0\n",
    "pnormMax=pnorm.max(axis=-1)\n",
    "nt2,nchan=tb.shape\n",
    "\n",
    "zKuL+=np.random.randn(nt,50)\n",
    "zKuL[zKuL<8]=0\n",
    "print(nt/nt2)\n",
    "\n"
   ]
  },
  {
   "cell_type": "code",
   "execution_count": 30,
   "metadata": {},
   "outputs": [],
   "source": [
    "# save a subset of the tb, pnorm, zKu, and iwc_SSRG using xarray\n",
    "# this was used to subsample the initial dataset which is too large to upload to github\n",
    "import xarray as xr\n",
    "nt=tbObsL.shape[0]\n",
    "ind=np.random.randint(0,nt,int(nt*0.25))\n",
    "ds=xr.Dataset({\"tb\":([\"nt\",\"nchan\"],tbObsL[ind]),\n",
    "                \"pnorm\":([\"nt\",\"nz\"],pnormL[ind]),\n",
    "                \"zKu\":([\"nt\",\"nz\"],zKuL[ind]),\n",
    "                \"iwc_SSRG\":([\"nt\",\"nz\"],iwc_SSRGL[ind])})\n",
    "encoding={\"tb\":{\"zlib\":True,\"complevel\":9},\n",
    "            \"pnorm\":{\"zlib\":True,\"complevel\":9},\n",
    "            \"zKu\":{\"zlib\":True,\"complevel\":9},\n",
    "            \"iwc_SSRG\":{\"zlib\":True,\"complevel\":9}}\n",
    "ds.to_netcdf(\"simulatedObs_sample.nc\",encoding=encoding)"
   ]
  },
  {
   "cell_type": "code",
   "execution_count": 32,
   "metadata": {},
   "outputs": [
    {
     "name": "stdout",
     "output_type": "stream",
     "text": [
      "165078\n"
     ]
    }
   ],
   "source": [
    "print(nt)\n",
    "nt=tbObsL.shape[0]\n",
    "tbObsL+=np.random.randn(nt,nchan)*3\n"
   ]
  },
  {
   "cell_type": "code",
   "execution_count": 33,
   "metadata": {},
   "outputs": [],
   "source": [
    "#import train_test_split\n",
    "from sklearn.model_selection import train_test_split\n",
    "nt=tbObsL.shape[0]\n",
    "yobsLidarRadar=np.concatenate((pnorm,zKuL),axis=-1)\n",
    "ind_train,ind_test,y_train, y_test = train_test_split(range(nt), iwc_SSRGL[:].sum(axis=-1)*0.24, test_size=0.33, random_state=42)\n",
    "\n",
    "X1_train=yobsLidarRadar[ind_train,:]\n",
    "X1_test=yobsLidarRadar[ind_test,:]\n",
    "iwc_train=iwc_SSRGL[ind_train,:]\n",
    "iwp_train=iwc_train.sum(axis=-1)*0.24\n",
    "iwc_test=iwc_SSRGL[ind_test,:]\n",
    "iwp_test=iwc_test.sum(axis=-1)*0.24\n",
    "iwc_gc_train=iwc_gcL[ind_train]\n",
    "iwc_gc_test=iwc_gcL[ind_test]"
   ]
  },
  {
   "cell_type": "code",
   "execution_count": 39,
   "metadata": {},
   "outputs": [],
   "source": [
    "# used a lazy linear regression to estimate iwc_gc and iwp from combinations of lidar, radar, and radiometer observations\n",
    "# in this example, we are using faiss, which is a library for fast nearest neighbor search\n",
    "# this correspons to a  \"lazy\" model, because no parameterizations are derived and the original training data is needed to make predictions\n",
    "# however, the model is robust and fast\n",
    "# results are not significantly different from the results in the paper\n",
    "# however if the training data needs to be extended, the model might not be as convenient as a parameterized one as it needs the training rather\n",
    "# than information extracted from it\n",
    "\n",
    "import faiss\n",
    "d=X1_train.shape[1]\n",
    "index = faiss.IndexFlatL2(d)   # build the index\n",
    "index.add(X1_train.astype(np.float32))                  # add vectors to the index\n",
    "D,I=index.search(X1_test.astype(np.float32),15)     # actual search\n",
    "iwc_gc_retL=[]\n",
    "iwp_retL=[]\n",
    "for d1,i1 in zip(D,I):  # gravity centers and IWP are estimated as the weighted average of the 15 nearest neighbors\n",
    "    if d1.max()<1e-6:\n",
    "        d1+=1e-6\n",
    "    iwc_gc_retL.append((iwc_gc_train[i1]*d1).mean()/d1.mean()) \n",
    "    iwp_retL.append((iwp_train[i1]*d1).mean()/d1.mean())"
   ]
  },
  {
   "cell_type": "code",
   "execution_count": 36,
   "metadata": {},
   "outputs": [
    {
     "name": "stdout",
     "output_type": "stream",
     "text": [
      "nrms iwc: 0.10139018123307823\n",
      "nrms iwp: 0.46132848302262813\n"
     ]
    }
   ],
   "source": [
    "#compute the normalized root mean square error\n",
    "def nrms(iwc1,iwc2):\n",
    "    return np.sqrt(np.mean((iwc1.flatten()-iwc2.flatten())**2))/np.sqrt(np.mean(iwc1.flatten()**2))\n",
    "\n",
    "print(\"nrms iwc:\",nrms(iwc_gc_test,np.array(iwc_gc_retL)))\n",
    "print(\"nrms iwp:\",nrms(iwp_test,np.array(iwp_retL)))"
   ]
  },
  {
   "cell_type": "code",
   "execution_count": 37,
   "metadata": {},
   "outputs": [
    {
     "data": {
      "image/png": "[encoded data removed]",
      "text/plain": [
       "<Figure size 640x480 with 1 Axes>"
      ]
     },
     "metadata": {},
     "output_type": "display_data"
    }
   ],
   "source": [
    "# do some plots\n",
    "import matplotlib.pyplot as plt\n",
    "import matplotlib\n",
    "xbins=np.logspace(1,4,50)\n",
    "plt.figure()\n",
    "ax=plt.subplot(111)\n",
    "plt.hist2d(iwp_test*1e3,np.array(iwp_retL)*1e3,bins=xbins,norm=matplotlib.colors.LogNorm(),cmap=\"jet\")\n",
    "plt.xscale('log')\n",
    "plt.yscale('log')\n",
    "ax.set_aspect('equal')\n",
    "plt.xlabel(\"IWP (g/m^2)\")\n",
    "plt.ylabel(\"Retrieved IWP (g/m^2)\")\n",
    "plt.grid()"
   ]
  },
  {
   "cell_type": "code",
   "execution_count": 38,
   "metadata": {},
   "outputs": [
    {
     "data": {
      "text/plain": [
       "Text(0, 0.5, 'Retrieved IWC GC (km)')"
      ]
     },
     "execution_count": 38,
     "metadata": {},
     "output_type": "execute_result"
    },
    {
     "data": {
      "image/png": "[encoded data removed]",
      "text/plain": [
       "<Figure size 640x480 with 1 Axes>"
      ]
     },
     "metadata": {},
     "output_type": "display_data"
    }
   ],
   "source": [
    "#y_pred_gc=lgbmReg_IWC_GC.predict(X1_test)\n",
    "#print(np.corrcoef(y_pred_gc,iwc_gc_test))\n",
    "import matplotlib.pyplot as plt\n",
    "import matplotlib\n",
    "xbins=np.logspace(1,4,50)\n",
    "plt.figure()\n",
    "ax=plt.subplot(111)\n",
    "plt.hist2d(iwc_gc_test,iwc_gc_retL,bins=np.arange(25)*0.5,norm=matplotlib.colors.LogNorm(),cmap=\"jet\")\n",
    "ax.set_aspect('equal')\n",
    "plt.grid()\n",
    "plt.xlabel(\"IWC GC (km)\")\n",
    "plt.ylabel(\"Retrieved IWC GC (km)\")"
   ]
  },
  {
   "cell_type": "code",
   "execution_count": 8,
   "metadata": {},
   "outputs": [],
   "source": [
    "import xarray as xr\n",
    "\n",
    "y_predX=xr.DataArray(1e3*y_pred)\n",
    "y_predX.name=\"iwp_pred\"\n",
    "y_predX.attrs[\"units\"]=\"g/m^2\"\n",
    "y_predX.attrs[\"long_name\"]=\"predicted ice water path\"\n",
    "iwp_testX=xr.DataArray(1e3*iwp_test)\n",
    "iwp_testX.name=\"iwp_test\"\n",
    "iwp_testX.attrs[\"units\"]=\"g/m^2\"\n",
    "iwp_testX.attrs[\"long_name\"]=\"test ice water path\"\n",
    "iwc_gc_testX=xr.DataArray(iwc_gc_test)\n",
    "iwc_gc_testX.name=\"iwc_gc_test\"\n",
    "iwc_gc_testX.attrs[\"units\"]=\"km\"\n",
    "iwc_gc_testX.attrs[\"long_name\"]=\"test IWC gravity center\"\n",
    "y_pred_gcX=xr.DataArray(y_pred_gc)\n",
    "y_pred_gcX.name=\"iwc_gc_pred\"\n",
    "y_pred_gcX.attrs[\"units\"]=\"km\"\n",
    "y_pred_gcX.attrs[\"long_name\"]=\"predicted IWC gravity center\"\n",
    "ds=xr.merge([y_predX,iwp_testX,iwc_gc_testX,y_pred_gcX])\n",
    "ds.to_netcdf(\"lgbm_IWP_IWC_GC_lidarRadar.nc\")"
   ]
  }
 ],
 "metadata": {
  "kernelspec": {
   "display_name": "Python 3 (ipykernel)",
   "language": "python",
   "name": "python3"
  },
  "language_info": {
   "codemirror_mode": {
    "name": "ipython",
    "version": 3
   },
   "file_extension": ".py",
   "mimetype": "text/x-python",
   "name": "python",
   "nbconvert_exporter": "python",
   "pygments_lexer": "ipython3",
   "version": "3.9.13"
  }
 },
 "nbformat": 4,
 "nbformat_minor": 4
}
